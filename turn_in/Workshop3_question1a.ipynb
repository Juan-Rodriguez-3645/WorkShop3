{
 "cells": [
  {
   "cell_type": "code",
   "execution_count": 1,
   "metadata": {},
   "outputs": [
    {
     "data": {
      "image/png": "[encoded data removed]",
      "text/plain": [
       "<Figure size 432x288 with 1 Axes>"
      ]
     },
     "metadata": {
      "needs_background": "light"
     },
     "output_type": "display_data"
    }
   ],
   "source": [
    "import matplotlib.pyplot as plt\n",
    "import numpy as np\n",
    "\n",
    "# creating goal\n",
    "goal = plt.Circle((-7.425, -7.925), 0.4, color = 'g')\n",
    "\n",
    "#creating obstacles\n",
    "    #rectangle\n",
    "obs11 = plt.Circle((2.725, -0.00000027), 0.2, color = 'r')\n",
    "obs12 = plt.Circle((2.525, .2), 0.2, color = 'r')\n",
    "obs13 = plt.Circle((2.925, -0.19999), 0.2, color = 'r')\n",
    "\n",
    "obs21 = plt.Circle((7.425, 4.725), 0.2, color = 'r')\n",
    "obs22 = plt.Circle((7.225, 4.725), 0.2, color = 'r')\n",
    "obs23 = plt.Circle((7.625, 4.725), 0.2, color = 'r')\n",
    "\n",
    "obs31 = plt.Circle((-1.025, -1.5), 0.2, color = 'r')\n",
    "obs32 = plt.Circle((-1.225, -1.5), 0.2, color = 'r')\n",
    "obs33 = plt.Circle((-0.825, -1.5), 0.2, color = 'r')\n",
    "\n",
    "obs41 = plt.Circle((-6.7,6.4), 0.2, color = 'r')\n",
    "obs42 = plt.Circle((-6.9,6.4), 0.2, color = 'r')\n",
    "obs43 = plt.Circle((-6.5,6.4), 0.2, color = 'r')\n",
    "\n",
    "obs51 =plt.Circle((-5.15, -6.2), 0.2, color = 'r')\n",
    "obs52 =plt.Circle((-4.95, -6.4), 0.2, color = 'r')\n",
    "obs53 =plt.Circle((-5.35, -6.), 0.2, color = 'r')\n",
    "\n",
    "    #circle\n",
    "obs6 = plt.Circle((-1.775, 2.1), 0.2, color = 'r')\n",
    "obs7 = plt.Circle((-5.8, 0.975), 0.2, color = 'r')\n",
    "obs8 = plt.Circle((7.275, -7.75), 0.2, color = 'r') \n",
    "obs9 = plt.Circle((2.425, 4.075), 0.2, color = 'r')\n",
    "obs10 = plt.Circle((4.4, 0.875), 0.2, color = 'r')\n",
    "obs_11 = plt.Circle((2.825, -4.85), 0.2, color = 'r')\n",
    "obs_12 = plt.Circle((-0.525, 6.3), 0.2, color = 'r')\n",
    "obs_13 = plt.Circle((-5.125, 3.425), 0.2, color = 'r')\n",
    "\n",
    "\n",
    "#initialzing plot \n",
    "fig,ax = plt.subplots()\n",
    "\n",
    "#plotting rectangles\n",
    "ax.add_artist(obs11)\n",
    "ax.add_artist(obs12)\n",
    "ax.add_artist(obs13)\n",
    "\n",
    "ax.add_artist(obs21)\n",
    "ax.add_artist(obs22)\n",
    "ax.add_artist(obs23)\n",
    "\n",
    "ax.add_artist(obs31)\n",
    "ax.add_artist(obs32)\n",
    "ax.add_artist(obs33)\n",
    "\n",
    "ax.add_artist(obs41)\n",
    "ax.add_artist(obs42)\n",
    "ax.add_artist(obs43)\n",
    "\n",
    "ax.add_artist(obs51)\n",
    "ax.add_artist(obs52)\n",
    "ax.add_artist(obs53)\n",
    "\n",
    "#plotting circles\n",
    "ax.add_artist(obs6)\n",
    "ax.add_artist(obs7)\n",
    "ax.add_artist(obs8)\n",
    "ax.add_artist(obs9)\n",
    "ax.add_artist(obs10)\n",
    "ax.add_artist(obs_11)\n",
    "ax.add_artist(obs_12)\n",
    "ax.add_artist(obs_13)\n",
    "\n",
    "#plottig goal\n",
    "ax.add_artist(goal)\n",
    "\n",
    "#changing default axes limits\n",
    "ax.set_xlim((-10,10))\n",
    "ax.set_ylim((-10,10))\n",
    "\n",
    "plt.show()"
   ]
  },
  {
   "cell_type": "code",
   "execution_count": null,
   "metadata": {},
   "outputs": [],
   "source": []
  }
 ],
 "metadata": {
  "kernelspec": {
   "display_name": "Python 3",
   "language": "python",
   "name": "python3"
  },
  "language_info": {
   "codemirror_mode": {
    "name": "ipython",
    "version": 3
   },
   "file_extension": ".py",
   "mimetype": "text/x-python",
   "name": "python",
   "nbconvert_exporter": "python",
   "pygments_lexer": "ipython3",
   "version": "3.8.3"
  }
 },
 "nbformat": 4,
 "nbformat_minor": 4
}
